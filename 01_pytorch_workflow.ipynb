{
  "nbformat": 4,
  "nbformat_minor": 0,
  "metadata": {
    "colab": {
      "provenance": [],
      "authorship_tag": "ABX9TyOrbtowxSIcl7lay973Tue3",
      "include_colab_link": true
    },
    "kernelspec": {
      "name": "python3",
      "display_name": "Python 3"
    },
    "language_info": {
      "name": "python"
    }
  },
  "cells": [
    {
      "cell_type": "markdown",
      "metadata": {
        "id": "view-in-github",
        "colab_type": "text"
      },
      "source": [
        "<a href=\"https://colab.research.google.com/github/AlirezaAhadipour/PyTorch-deep-learning/blob/main/01_pytorch_workflow.ipynb\" target=\"_parent\"><img src=\"https://colab.research.google.com/assets/colab-badge.svg\" alt=\"Open In Colab\"/></a>"
      ]
    },
    {
      "cell_type": "code",
      "execution_count": 1,
      "metadata": {
        "colab": {
          "base_uri": "https://localhost:8080/",
          "height": 35
        },
        "id": "9Y9SEz7CYp_j",
        "outputId": "ab426b6c-4790-4671-d985-3d5fbd98fc5a"
      },
      "outputs": [
        {
          "output_type": "execute_result",
          "data": {
            "text/plain": [
              "'2.2.1+cu121'"
            ],
            "application/vnd.google.colaboratory.intrinsic+json": {
              "type": "string"
            }
          },
          "metadata": {},
          "execution_count": 1
        }
      ],
      "source": [
        "import numpy as np\n",
        "import torch\n",
        "from torch import nn\n",
        "import matplotlib.pyplot as plt\n",
        "\n",
        "torch.__version__"
      ]
    },
    {
      "cell_type": "markdown",
      "source": [
        "### Data\n",
        "\n",
        "Use a linear regression formula to make a straight line with **known** parameters."
      ],
      "metadata": {
        "id": "-GEOoo-paw5M"
      }
    },
    {
      "cell_type": "code",
      "source": [
        "# Params\n",
        "weight = 0.85\n",
        "bias = 0.2\n",
        "\n",
        "X = torch.arange(start=0, end=1, step=0.02).unsqueeze(dim=1)\n",
        "y = weight * X + bias"
      ],
      "metadata": {
        "id": "BIHgTlNPanuR"
      },
      "execution_count": 2,
      "outputs": []
    },
    {
      "cell_type": "code",
      "source": [
        "X[:10], y[:10]"
      ],
      "metadata": {
        "colab": {
          "base_uri": "https://localhost:8080/"
        },
        "id": "S3EVuXGoctEI",
        "outputId": "328fc922-b3c9-474c-ceca-4f3d6a7b4d52"
      },
      "execution_count": 3,
      "outputs": [
        {
          "output_type": "execute_result",
          "data": {
            "text/plain": [
              "(tensor([[0.0000],\n",
              "         [0.0200],\n",
              "         [0.0400],\n",
              "         [0.0600],\n",
              "         [0.0800],\n",
              "         [0.1000],\n",
              "         [0.1200],\n",
              "         [0.1400],\n",
              "         [0.1600],\n",
              "         [0.1800]]),\n",
              " tensor([[0.2000],\n",
              "         [0.2170],\n",
              "         [0.2340],\n",
              "         [0.2510],\n",
              "         [0.2680],\n",
              "         [0.2850],\n",
              "         [0.3020],\n",
              "         [0.3190],\n",
              "         [0.3360],\n",
              "         [0.3530]]))"
            ]
          },
          "metadata": {},
          "execution_count": 3
        }
      ]
    },
    {
      "cell_type": "markdown",
      "source": [
        "### Train/test split"
      ],
      "metadata": {
        "id": "wXw6_fe5eSej"
      }
    },
    {
      "cell_type": "code",
      "source": [
        "train_split = int(0.8 * len(X))\n",
        "X_train, y_train = X[:train_split], y[:train_split]\n",
        "X_test, y_test = X[train_split:], y[train_split:]\n",
        "\n",
        "len(X_train), len(y_train), len(X_test), len(y_test)"
      ],
      "metadata": {
        "colab": {
          "base_uri": "https://localhost:8080/"
        },
        "id": "fd5LE5Wwc7n9",
        "outputId": "6bcc9009-47e2-420a-89aa-d96058700894"
      },
      "execution_count": 4,
      "outputs": [
        {
          "output_type": "execute_result",
          "data": {
            "text/plain": [
              "(40, 40, 10, 10)"
            ]
          },
          "metadata": {},
          "execution_count": 4
        }
      ]
    },
    {
      "cell_type": "code",
      "source": [
        "def plot_preds(train_data=X_train,\n",
        "               train_labels=y_train,\n",
        "               test_data=X_test,\n",
        "               test_labels=y_test,\n",
        "               predictions=None):\n",
        "  plt.figure()\n",
        "  plt.scatter(train_data, train_labels, color='blue', label='train')\n",
        "  plt.scatter(test_data, test_labels, color='green', label='test')\n",
        "\n",
        "  if predictions is not None:\n",
        "    plt.scatter(test_data, predictions, color='red', label='pred')\n",
        "\n",
        "  plt.legend()\n",
        "  plt.xlabel('X')\n",
        "  plt.ylabel('y')"
      ],
      "metadata": {
        "id": "9YhVSAGhf1ON"
      },
      "execution_count": 5,
      "outputs": []
    },
    {
      "cell_type": "code",
      "source": [
        "plot_preds()"
      ],
      "metadata": {
        "colab": {
          "base_uri": "https://localhost:8080/",
          "height": 449
        },
        "id": "lDOf7xcflRVY",
        "outputId": "e62696c4-4026-425a-c09b-42f105dfd858"
      },
      "execution_count": 6,
      "outputs": [
        {
          "output_type": "display_data",
          "data": {
            "text/plain": [
              "<Figure size 640x480 with 1 Axes>"
            ],
            "image/png": "[encoded data removed]"
          },
          "metadata": {}
        }
      ]
    },
    {
      "cell_type": "markdown",
      "source": [
        "### Model"
      ],
      "metadata": {
        "id": "u390yvCrmNuT"
      }
    },
    {
      "cell_type": "code",
      "source": [
        "## Creat linear regression model class\n",
        "class LinearRegressionModel(nn.Module):\n",
        "  def __init__(self):\n",
        "    super().__init__()\n",
        "    self.weight = nn.Parameter(torch.randn(1, requires_grad=True, dtype=torch.float))\n",
        "    self.bias = nn.Parameter(torch.randn(1, requires_grad=True, dtype=torch.float))\n",
        "\n",
        "  def forward(self, x):\n",
        "    return self.weight * x + self.bias\n"
      ],
      "metadata": {
        "id": "E5H_QyO5lWRh"
      },
      "execution_count": 7,
      "outputs": []
    },
    {
      "cell_type": "code",
      "source": [
        "## create an instance of the model\n",
        "\n",
        "torch.manual_seed(42)\n",
        "\n",
        "model_0 = LinearRegressionModel()\n",
        "\n",
        "list(model_0.parameters())"
      ],
      "metadata": {
        "id": "WohaXs0MUawu",
        "outputId": "6877f612-c2a8-4960-c02c-73007cc691b3",
        "colab": {
          "base_uri": "https://localhost:8080/"
        }
      },
      "execution_count": 8,
      "outputs": [
        {
          "output_type": "execute_result",
          "data": {
            "text/plain": [
              "[Parameter containing:\n",
              " tensor([0.3367], requires_grad=True),\n",
              " Parameter containing:\n",
              " tensor([0.1288], requires_grad=True)]"
            ]
          },
          "metadata": {},
          "execution_count": 8
        }
      ]
    },
    {
      "cell_type": "code",
      "source": [
        "model_0.state_dict()"
      ],
      "metadata": {
        "id": "hpM90b3SLe6S",
        "outputId": "67aa6848-9f55-48d5-ae06-a0a6a80f76f6",
        "colab": {
          "base_uri": "https://localhost:8080/"
        }
      },
      "execution_count": 9,
      "outputs": [
        {
          "output_type": "execute_result",
          "data": {
            "text/plain": [
              "OrderedDict([('weight', tensor([0.3367])), ('bias', tensor([0.1288]))])"
            ]
          },
          "metadata": {},
          "execution_count": 9
        }
      ]
    },
    {
      "cell_type": "code",
      "source": [
        "## Making predictions\n",
        "# with torch.no_grad():\n",
        "with torch.inference_mode():\n",
        "  y_preds = model_0(X_test)\n",
        "\n",
        "y_preds\n"
      ],
      "metadata": {
        "id": "EZvPCxykNSF9",
        "outputId": "2ed547f6-6b87-498c-aba0-5a2ec09d6d49",
        "colab": {
          "base_uri": "https://localhost:8080/"
        }
      },
      "execution_count": 10,
      "outputs": [
        {
          "output_type": "execute_result",
          "data": {
            "text/plain": [
              "tensor([[0.3982],\n",
              "        [0.4049],\n",
              "        [0.4116],\n",
              "        [0.4184],\n",
              "        [0.4251],\n",
              "        [0.4318],\n",
              "        [0.4386],\n",
              "        [0.4453],\n",
              "        [0.4520],\n",
              "        [0.4588]])"
            ]
          },
          "metadata": {},
          "execution_count": 10
        }
      ]
    },
    {
      "cell_type": "code",
      "source": [
        "plot_preds(predictions=y_preds)"
      ],
      "metadata": {
        "id": "Baya60R9VpU5",
        "outputId": "c5f9e3b2-e71b-4636-80ea-4a4596bc775f",
        "colab": {
          "base_uri": "https://localhost:8080/",
          "height": 449
        }
      },
      "execution_count": 11,
      "outputs": [
        {
          "output_type": "display_data",
          "data": {
            "text/plain": [
              "<Figure size 640x480 with 1 Axes>"
            ],
            "image/png": "[encoded data removed]"
          },
          "metadata": {}
        }
      ]
    },
    {
      "cell_type": "markdown",
      "source": [
        "### Training"
      ],
      "metadata": {
        "id": "wNaOcTiQYnI6"
      }
    },
    {
      "cell_type": "code",
      "source": [
        "# loss function\n",
        "loss_fn = nn.L1Loss()\n",
        "loss_fn"
      ],
      "metadata": {
        "id": "1d9BeM97Wwq1",
        "outputId": "3192e861-f969-4976-ec52-84166ccbc39e",
        "colab": {
          "base_uri": "https://localhost:8080/"
        }
      },
      "execution_count": 12,
      "outputs": [
        {
          "output_type": "execute_result",
          "data": {
            "text/plain": [
              "L1Loss()"
            ]
          },
          "metadata": {},
          "execution_count": 12
        }
      ]
    },
    {
      "cell_type": "code",
      "source": [
        "# optimizer\n",
        "optimizer = torch.optim.SGD(params=model_0.parameters(), lr=0.01)\n",
        "optimizer"
      ],
      "metadata": {
        "id": "3UeL-giGbW8Y",
        "outputId": "335966d7-0bac-4795-81f5-f4621e234930",
        "colab": {
          "base_uri": "https://localhost:8080/"
        }
      },
      "execution_count": 13,
      "outputs": [
        {
          "output_type": "execute_result",
          "data": {
            "text/plain": [
              "SGD (\n",
              "Parameter Group 0\n",
              "    dampening: 0\n",
              "    differentiable: False\n",
              "    foreach: None\n",
              "    lr: 0.01\n",
              "    maximize: False\n",
              "    momentum: 0\n",
              "    nesterov: False\n",
              "    weight_decay: 0\n",
              ")"
            ]
          },
          "metadata": {},
          "execution_count": 13
        }
      ]
    },
    {
      "cell_type": "code",
      "source": [
        "## Building a training loop\n",
        "epochs = 250\n",
        "\n",
        "# track values\n",
        "epoch_counts = []\n",
        "loss_values = []\n",
        "test_loss_values = []\n",
        "\n",
        "for epoch in range(epochs):\n",
        "  epoch_counts.append(epoch)\n",
        "  model_0.train()   # set to training mode\n",
        "\n",
        "  # forward pass\n",
        "  y_preds = model_0(X_train)\n",
        "\n",
        "  # loss\n",
        "  loss = loss_fn(y_preds, y_train)\n",
        "  loss_values.append(loss)\n",
        "  # print(f'Loss: {loss}')\n",
        "\n",
        "  # optimize\n",
        "  optimizer.zero_grad()\n",
        "\n",
        "  # backpropagation\n",
        "  loss.backward()\n",
        "\n",
        "  # gradient descent\n",
        "  optimizer.step()\n",
        "\n",
        "\n",
        "  ## Testing\n",
        "  model_0.eval()   # turns off some settings in the testing mode like dropout, batch normalization, ...\n",
        "\n",
        "  with torch.inference_mode():   # turns off gradient tracking\n",
        "    # forward pass\n",
        "    test_pred = model_0(X_test)\n",
        "\n",
        "    # loss\n",
        "    test_loss = loss_fn(test_pred, y_test)\n",
        "    test_loss_values.append(test_loss)\n",
        "\n",
        "\n",
        "  if epoch % 10 == 0:\n",
        "    print(f'Epoch: {epoch + 1}, Loss: {loss:.4f}, Test loss: {test_loss:.4f}')\n",
        "\n",
        "print(model_0.state_dict())"
      ],
      "metadata": {
        "id": "6Dsza8eqdUkc",
        "outputId": "cb5a0187-3152-4304-e790-1003c2c57cae",
        "colab": {
          "base_uri": "https://localhost:8080/"
        }
      },
      "execution_count": 14,
      "outputs": [
        {
          "output_type": "stream",
          "name": "stdout",
          "text": [
            "Epoch: 1, Loss: 0.2714, Test loss: 0.5146\n",
            "Epoch: 11, Loss: 0.1603, Test loss: 0.3829\n",
            "Epoch: 21, Loss: 0.1051, Test loss: 0.2898\n",
            "Epoch: 31, Loss: 0.0849, Test loss: 0.2326\n",
            "Epoch: 41, Loss: 0.0767, Test loss: 0.1983\n",
            "Epoch: 51, Loss: 0.0722, Test loss: 0.1778\n",
            "Epoch: 61, Loss: 0.0686, Test loss: 0.1647\n",
            "Epoch: 71, Loss: 0.0651, Test loss: 0.1537\n",
            "Epoch: 81, Loss: 0.0616, Test loss: 0.1434\n",
            "Epoch: 91, Loss: 0.0581, Test loss: 0.1351\n",
            "Epoch: 101, Loss: 0.0547, Test loss: 0.1268\n",
            "Epoch: 111, Loss: 0.0513, Test loss: 0.1193\n",
            "Epoch: 121, Loss: 0.0478, Test loss: 0.1110\n",
            "Epoch: 131, Loss: 0.0444, Test loss: 0.1034\n",
            "Epoch: 141, Loss: 0.0410, Test loss: 0.0951\n",
            "Epoch: 151, Loss: 0.0375, Test loss: 0.0868\n",
            "Epoch: 161, Loss: 0.0341, Test loss: 0.0793\n",
            "Epoch: 171, Loss: 0.0307, Test loss: 0.0710\n",
            "Epoch: 181, Loss: 0.0272, Test loss: 0.0627\n",
            "Epoch: 191, Loss: 0.0238, Test loss: 0.0551\n",
            "Epoch: 201, Loss: 0.0204, Test loss: 0.0469\n",
            "Epoch: 211, Loss: 0.0169, Test loss: 0.0386\n",
            "Epoch: 221, Loss: 0.0135, Test loss: 0.0310\n",
            "Epoch: 231, Loss: 0.0101, Test loss: 0.0227\n",
            "Epoch: 241, Loss: 0.0066, Test loss: 0.0145\n",
            "OrderedDict([('weight', tensor([0.8342])), ('bias', tensor([0.2068]))])\n"
          ]
        }
      ]
    },
    {
      "cell_type": "code",
      "source": [
        "with torch.inference_mode():\n",
        "  y_preds = model_0(X_test)\n",
        "\n",
        "y_preds\n",
        "\n",
        "plot_preds(predictions=y_preds)"
      ],
      "metadata": {
        "id": "OT66OLE7i_iX",
        "outputId": "e44d5462-15d5-4fac-d918-91806cef3e01",
        "colab": {
          "base_uri": "https://localhost:8080/",
          "height": 449
        }
      },
      "execution_count": 15,
      "outputs": [
        {
          "output_type": "display_data",
          "data": {
            "text/plain": [
              "<Figure size 640x480 with 1 Axes>"
            ],
            "image/png": "[encoded data removed]"
          },
          "metadata": {}
        }
      ]
    },
    {
      "cell_type": "code",
      "source": [
        "plt.plot(epoch_counts, np.array(torch.tensor(loss_values).numpy()), label='train')\n",
        "plt.plot(epoch_counts, test_loss_values, label='test')\n",
        "plt.xlabel('Epoch')\n",
        "plt.ylabel('Loss')\n",
        "plt.legend()\n",
        "plt.show()"
      ],
      "metadata": {
        "id": "U6khadfZYpqs",
        "outputId": "a125ef54-8fa3-49a3-8fca-e131e1087e33",
        "colab": {
          "base_uri": "https://localhost:8080/",
          "height": 449
        }
      },
      "execution_count": 16,
      "outputs": [
        {
          "output_type": "display_data",
          "data": {
            "text/plain": [
              "<Figure size 640x480 with 1 Axes>"
            ],
            "image/png": "[encoded data removed]"
          },
          "metadata": {}
        }
      ]
    },
    {
      "cell_type": "markdown",
      "source": [
        "### Save/load the model"
      ],
      "metadata": {
        "id": "ylqVih7Zlcw_"
      }
    },
    {
      "cell_type": "code",
      "source": [
        "from pathlib import Path\n",
        "\n",
        "# create a directory\n",
        "model_path = Path('models')\n",
        "model_path.mkdir(parents=True, exist_ok=True)\n",
        "\n",
        "# create a path\n",
        "model_name = '01_pytorch_workflow_model_0.pt'\n",
        "model_save_path = model_path / model_name\n",
        "\n",
        "# save the model\n",
        "torch.save(obj=model_0.state_dict(), f=model_save_path)"
      ],
      "metadata": {
        "id": "fyZE2uG9ifBs"
      },
      "execution_count": 17,
      "outputs": []
    },
    {
      "cell_type": "code",
      "source": [
        "!ls -l models"
      ],
      "metadata": {
        "id": "hhSeg8a1pg4J",
        "outputId": "7654e4c7-fadb-4c5d-c5f0-d8036ee27323",
        "colab": {
          "base_uri": "https://localhost:8080/"
        }
      },
      "execution_count": 18,
      "outputs": [
        {
          "output_type": "stream",
          "name": "stdout",
          "text": [
            "total 4\n",
            "-rw-r--r-- 1 root root 1680 Mar 31 15:18 01_pytorch_workflow_model_0.pt\n"
          ]
        }
      ]
    },
    {
      "cell_type": "code",
      "source": [
        "# instantiate the model\n",
        "loaded_model_0 = LinearRegressionModel()\n",
        "\n",
        "# load the model\n",
        "loaded_model_0.load_state_dict(torch.load(f=model_save_path))"
      ],
      "metadata": {
        "id": "IcGh_wgqqh3u",
        "outputId": "91cf2185-9d43-4110-f0fb-019154cc9e15",
        "colab": {
          "base_uri": "https://localhost:8080/"
        }
      },
      "execution_count": 19,
      "outputs": [
        {
          "output_type": "execute_result",
          "data": {
            "text/plain": [
              "<All keys matched successfully>"
            ]
          },
          "metadata": {},
          "execution_count": 19
        }
      ]
    },
    {
      "cell_type": "code",
      "source": [
        "loaded_model_0.state_dict()"
      ],
      "metadata": {
        "id": "jbiUjUc40OL-",
        "outputId": "a8626864-6686-4849-8f9a-840ac7572bfa",
        "colab": {
          "base_uri": "https://localhost:8080/"
        }
      },
      "execution_count": 20,
      "outputs": [
        {
          "output_type": "execute_result",
          "data": {
            "text/plain": [
              "OrderedDict([('weight', tensor([0.8342])), ('bias', tensor([0.2068]))])"
            ]
          },
          "metadata": {},
          "execution_count": 20
        }
      ]
    },
    {
      "cell_type": "code",
      "source": [],
      "metadata": {
        "id": "vZL3--IM0e8q"
      },
      "execution_count": 20,
      "outputs": []
    },
    {
      "cell_type": "code",
      "source": [],
      "metadata": {
        "id": "BAi3fT7O2EeM"
      },
      "execution_count": 20,
      "outputs": []
    },
    {
      "cell_type": "code",
      "source": [],
      "metadata": {
        "id": "LZjeXg3T2Eaw"
      },
      "execution_count": 20,
      "outputs": []
    },
    {
      "cell_type": "markdown",
      "source": [
        "### Putting everything together"
      ],
      "metadata": {
        "id": "IU2sxCl41YmV"
      }
    },
    {
      "cell_type": "code",
      "source": [
        "import numpy as np\n",
        "import torch\n",
        "from torch import nn\n",
        "import matplotlib.pyplot as plt\n",
        "\n",
        "torch.__version__"
      ],
      "metadata": {
        "id": "PJ9tw-F91dQp",
        "outputId": "7a238906-a759-4ab1-e9bd-1a5e933bff84",
        "colab": {
          "base_uri": "https://localhost:8080/",
          "height": 35
        }
      },
      "execution_count": 21,
      "outputs": [
        {
          "output_type": "execute_result",
          "data": {
            "text/plain": [
              "'2.2.1+cu121'"
            ],
            "application/vnd.google.colaboratory.intrinsic+json": {
              "type": "string"
            }
          },
          "metadata": {},
          "execution_count": 21
        }
      ]
    },
    {
      "cell_type": "code",
      "source": [
        "## device agnostic\n",
        "device = 'cuda' if torch.cuda.is_available() else 'cpu'\n",
        "print(device)"
      ],
      "metadata": {
        "id": "LfoOVtF2156o",
        "outputId": "913683db-142a-49cc-fe32-5f51dc2953aa",
        "colab": {
          "base_uri": "https://localhost:8080/"
        }
      },
      "execution_count": 22,
      "outputs": [
        {
          "output_type": "stream",
          "name": "stdout",
          "text": [
            "cpu\n"
          ]
        }
      ]
    },
    {
      "cell_type": "code",
      "source": [
        "## data\n",
        "weight = -0.8\n",
        "bias = 0.3\n",
        "\n",
        "X = torch.arange(start=0, end=1, step=0.01).unsqueeze(dim=1)\n",
        "y = weight * X + bias\n"
      ],
      "metadata": {
        "id": "lXDErCyW2V8P"
      },
      "execution_count": 23,
      "outputs": []
    },
    {
      "cell_type": "code",
      "source": [
        "## split the data\n",
        "train_split = int(0.8 * len(X))\n",
        "\n",
        "X_train, y_train = X[:train_split], y[:train_split]\n",
        "X_test, y_test = X[train_split:], y[train_split:]"
      ],
      "metadata": {
        "id": "jthXhVgw3gS9"
      },
      "execution_count": 24,
      "outputs": []
    },
    {
      "cell_type": "code",
      "source": [
        "## plot the data\n",
        "plot_preds(X_train, y_train, X_test, y_test)"
      ],
      "metadata": {
        "id": "YHF3dLiu4KpN",
        "outputId": "3907eee5-f09d-4235-e284-76842bcd0728",
        "colab": {
          "base_uri": "https://localhost:8080/",
          "height": 449
        }
      },
      "execution_count": 25,
      "outputs": [
        {
          "output_type": "display_data",
          "data": {
            "text/plain": [
              "<Figure size 640x480 with 1 Axes>"
            ],
            "image/png": "[encoded data removed]"
          },
          "metadata": {}
        }
      ]
    },
    {
      "cell_type": "code",
      "source": [
        "# send data to device\n",
        "\n",
        "X_train = X_train.to(device)\n",
        "y_train = y_train.to(device)\n",
        "X_test = X_test.to(device)\n",
        "y_test = y_test.to(device)"
      ],
      "metadata": {
        "id": "577GVlvCDZLh"
      },
      "execution_count": 26,
      "outputs": []
    },
    {
      "cell_type": "code",
      "source": [
        "## building a model\n",
        "class LinearRegressionModelV2(nn.Module):\n",
        "  def __init__(self):\n",
        "    super().__init__()\n",
        "    self.linear_layer = nn.Linear(in_features=1, out_features=1)\n",
        "\n",
        "  def forward(self, x):\n",
        "    return self.linear_layer(x)"
      ],
      "metadata": {
        "id": "jsrRTzCe4iqN"
      },
      "execution_count": 27,
      "outputs": []
    },
    {
      "cell_type": "code",
      "source": [
        "torch.manual_seed(42)\n",
        "model_1 = LinearRegressionModelV2()\n",
        "model_1, model_1.state_dict()"
      ],
      "metadata": {
        "id": "wlj5iDn17Aur",
        "outputId": "5f50cd8c-a371-48d0-9187-854ea521f35b",
        "colab": {
          "base_uri": "https://localhost:8080/"
        }
      },
      "execution_count": 28,
      "outputs": [
        {
          "output_type": "execute_result",
          "data": {
            "text/plain": [
              "(LinearRegressionModelV2(\n",
              "   (linear_layer): Linear(in_features=1, out_features=1, bias=True)\n",
              " ),\n",
              " OrderedDict([('linear_layer.weight', tensor([[0.7645]])),\n",
              "              ('linear_layer.bias', tensor([0.8300]))]))"
            ]
          },
          "metadata": {},
          "execution_count": 28
        }
      ]
    },
    {
      "cell_type": "code",
      "source": [
        "# send the model to device\n",
        "model_1.to(device)"
      ],
      "metadata": {
        "id": "rzMsv_Lb7O5X",
        "outputId": "f8cd86b8-bb3a-4687-f403-ff98b70a7717",
        "colab": {
          "base_uri": "https://localhost:8080/"
        }
      },
      "execution_count": 29,
      "outputs": [
        {
          "output_type": "execute_result",
          "data": {
            "text/plain": [
              "LinearRegressionModelV2(\n",
              "  (linear_layer): Linear(in_features=1, out_features=1, bias=True)\n",
              ")"
            ]
          },
          "metadata": {},
          "execution_count": 29
        }
      ]
    },
    {
      "cell_type": "code",
      "source": [
        "## Training\n",
        "\n",
        "# loss\n",
        "loss_fn = nn.MSELoss()   # Mean Square Error\n",
        "\n",
        "# optimizer\n",
        "optimizer = torch.optim.Adam(params=model_1.parameters(), lr=0.01)\n",
        "\n",
        "# training loop\n",
        "torch.manual_seed(42)\n",
        "\n",
        "epochs = 1000\n",
        "for epoch in range(epochs):\n",
        "  model_1.train()\n",
        "\n",
        "  # forward pass\n",
        "  y_pred = model_1(X_train)\n",
        "\n",
        "  # loss\n",
        "  loss = loss_fn(y_pred, y_train)\n",
        "\n",
        "  # optimizer\n",
        "  optimizer.zero_grad()\n",
        "\n",
        "  # backpropagation\n",
        "  loss.backward()\n",
        "\n",
        "  # optimizer step\n",
        "  optimizer.step()\n",
        "\n",
        "\n",
        "  ## Testing\n",
        "  model_1.eval()\n",
        "  with torch.inference_mode():\n",
        "    test_pred = model_1(X_test)\n",
        "    test_loss = loss_fn(test_pred, y_test)\n",
        "\n",
        "  if epoch % 100 == 0:\n",
        "    print(f'Epoch: {epoch}, Loss: {loss:.4f}, Test loss: {test_loss:.4f}')\n",
        "\n",
        "model_1.state_dict()"
      ],
      "metadata": {
        "id": "wWNNIkZZ8fpT",
        "outputId": "4ae35d0d-50b2-46db-d88c-7ac5fa8260ec",
        "colab": {
          "base_uri": "https://localhost:8080/"
        }
      },
      "execution_count": 30,
      "outputs": [
        {
          "output_type": "stream",
          "name": "stdout",
          "text": [
            "Epoch: 0, Loss: 1.4484, Test loss: 3.6612\n",
            "Epoch: 100, Loss: 0.0555, Test loss: 0.2972\n",
            "Epoch: 200, Loss: 0.0200, Test loss: 0.0823\n",
            "Epoch: 300, Loss: 0.0131, Test loss: 0.0526\n",
            "Epoch: 400, Loss: 0.0078, Test loss: 0.0314\n",
            "Epoch: 500, Loss: 0.0043, Test loss: 0.0171\n",
            "Epoch: 600, Loss: 0.0021, Test loss: 0.0086\n",
            "Epoch: 700, Loss: 0.0010, Test loss: 0.0040\n",
            "Epoch: 800, Loss: 0.0004, Test loss: 0.0017\n",
            "Epoch: 900, Loss: 0.0002, Test loss: 0.0007\n"
          ]
        },
        {
          "output_type": "execute_result",
          "data": {
            "text/plain": [
              "OrderedDict([('linear_layer.weight', tensor([[-0.7672]])),\n",
              "             ('linear_layer.bias', tensor([0.2859]))])"
            ]
          },
          "metadata": {},
          "execution_count": 30
        }
      ]
    },
    {
      "cell_type": "code",
      "source": [
        "## Evaluate the model\n",
        "model_1.eval()\n",
        "with torch.inference_mode():\n",
        "  y_preds = model_1(X_test)\n",
        "\n",
        "plot_preds(X_train, y_train, X_test, y_test, predictions=y_preds.cpu())"
      ],
      "metadata": {
        "id": "8tdGeMKqAVeq",
        "outputId": "e58291f8-7f8d-4353-cbea-1eb5e63155ce",
        "colab": {
          "base_uri": "https://localhost:8080/",
          "height": 449
        }
      },
      "execution_count": 31,
      "outputs": [
        {
          "output_type": "display_data",
          "data": {
            "text/plain": [
              "<Figure size 640x480 with 1 Axes>"
            ],
            "image/png": "[encoded data removed]"
          },
          "metadata": {}
        }
      ]
    },
    {
      "cell_type": "code",
      "source": [
        "## Saving/loading the trained model\n",
        "\n",
        "from pathlib import Path\n",
        "\n",
        "# directory\n",
        "model_path = Path('models')\n",
        "model_path.mkdir(parents=True, exist_ok=True)\n",
        "\n",
        "# path\n",
        "model_name = '01_pytorch_workflow_model_1.pt'\n",
        "model_save_path = model_path / model_name\n",
        "\n",
        "# save\n",
        "torch.save(obj=model_1.state_dict(), f=model_save_path)"
      ],
      "metadata": {
        "id": "xv5LqsdREVGK"
      },
      "execution_count": 35,
      "outputs": []
    },
    {
      "cell_type": "code",
      "source": [
        "# load\n",
        "loaded_model_1 = LinearRegressionModelV2()\n",
        "loaded_model_1.load_state_dict(torch.load(model_save_path))\n",
        "loaded_model_1.to(device)"
      ],
      "metadata": {
        "id": "8-mjQuIdGZG-",
        "outputId": "5ada50ce-efa9-47a5-afe6-132b90ef5f37",
        "colab": {
          "base_uri": "https://localhost:8080/"
        }
      },
      "execution_count": 37,
      "outputs": [
        {
          "output_type": "execute_result",
          "data": {
            "text/plain": [
              "LinearRegressionModelV2(\n",
              "  (linear_layer): Linear(in_features=1, out_features=1, bias=True)\n",
              ")"
            ]
          },
          "metadata": {},
          "execution_count": 37
        }
      ]
    },
    {
      "cell_type": "code",
      "source": [
        "loaded_model_1.state_dict()"
      ],
      "metadata": {
        "id": "4U0tkNtwHrtv",
        "outputId": "4d986888-0de5-4071-f4ee-04326c956cf9",
        "colab": {
          "base_uri": "https://localhost:8080/"
        }
      },
      "execution_count": 38,
      "outputs": [
        {
          "output_type": "execute_result",
          "data": {
            "text/plain": [
              "OrderedDict([('linear_layer.weight', tensor([[-0.7672]])),\n",
              "             ('linear_layer.bias', tensor([0.2859]))])"
            ]
          },
          "metadata": {},
          "execution_count": 38
        }
      ]
    },
    {
      "cell_type": "code",
      "source": [
        "# evaluate loaded model\n",
        "\n",
        "loaded_model_1.eval()\n",
        "with torch.inference_mode():\n",
        "  loaded_model_1_preds = loaded_model_1(X_test)\n",
        "\n",
        "y_preds == loaded_model_1_preds"
      ],
      "metadata": {
        "id": "ddJkaac9H3K7",
        "outputId": "f5071346-887a-4639-d672-6032f852214a",
        "colab": {
          "base_uri": "https://localhost:8080/"
        }
      },
      "execution_count": 40,
      "outputs": [
        {
          "output_type": "execute_result",
          "data": {
            "text/plain": [
              "tensor([[True],\n",
              "        [True],\n",
              "        [True],\n",
              "        [True],\n",
              "        [True],\n",
              "        [True],\n",
              "        [True],\n",
              "        [True],\n",
              "        [True],\n",
              "        [True],\n",
              "        [True],\n",
              "        [True],\n",
              "        [True],\n",
              "        [True],\n",
              "        [True],\n",
              "        [True],\n",
              "        [True],\n",
              "        [True],\n",
              "        [True],\n",
              "        [True]])"
            ]
          },
          "metadata": {},
          "execution_count": 40
        }
      ]
    },
    {
      "cell_type": "code",
      "source": [],
      "metadata": {
        "id": "7Pu7_EMNII8R"
      },
      "execution_count": null,
      "outputs": []
    }
  ]
}